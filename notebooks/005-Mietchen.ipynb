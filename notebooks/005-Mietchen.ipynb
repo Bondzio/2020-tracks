{
 "cells": [
  {
   "cell_type": "markdown",
   "metadata": {},
   "source": [
    "<div style='background-image: url(\"https://upload.wikimedia.org/wikipedia/commons/a/a6/Animation_of_interactively_modified_Jupyter_notebook_on_PAWS_with_SPARQL_query_for_motto_of_Wikipedia_various_languages.gif\") ; padding: 0px ; background-size: cover ; border-radius: 5px ; height: 270px'>\n",
    "    <div style=\"float: right ; margin: 255px ; padding: 20px ; background: rgba(255 , 255 , 255 , 0.7) ; width: 60% ; height: 60px\">\n",
    "        <div style=\"position: relative ; top: 40% ; transform: translatey(-50%)\">\n",
    "            <div style=\"font-size: xx-large ; font-weight: 900 ; color: rgba(0 , 0 , 0 , 0.8) ; line-height: 100%\">Jupyter in the Wikimedia ecosystem</div>\n",
    "            <div style=\"font-size: large ; padding-top: 5px ; color: rgba(0 , 0 , 0 , 0.5)\">A talk by <a href=\"https://en.wikipedia.org/wiki/User:Daniel_Mietchen/Biographical_sketch\">Daniel Mietchen</a> at <a href=\"http://web.archive.org/web/20200919212552if_/https://jupytercon.com/\">JupyterCon 2020</a>,<br />available via <a href=\"https://doi.org/10.5281/zenodo.4031806\">https://doi.org/10.5281/zenodo.4031806</a>.</div>\n",
    "        </div><a href=\"https://commons.wikimedia.org/wiki/File:Coloured-transition-metal-solutions.jpg\"><img src=\"https://upload.wikimedia.org/wikipedia/commons/5/57/Coloured-transition-metal-solutions.jpg\" width=220></a><br /><a href=\"https://commons.wikimedia.org/wiki/File:CC-BY-SA_icon_orange.svg\"><img src=\"https://upload.wikimedia.org/wikipedia/commons/thumb/a/a1/CC-BY-SA_icon_orange.svg/200px-CC-BY-SA_icon_orange.svg.png\" width=150></a> \n",
    "    </div>\n",
    "</div>\n"
   ]
  },
  {
   "cell_type": "markdown",
   "metadata": {},
   "source": [
    "## Structure of the talk\n",
    "\n",
    "* 00:00 min &mdash; Start\n",
    "* 00:30 min &mdash; [Motivation](#Motivation)\n",
    "* 02:00 min &mdash; [Jupyter in the Wikimedia ecosystem](#Jupyter-in-the-Wikimedia-ecosystem)\n",
    "* 08:00 min &mdash; [Wikimedia in the Jupyter ecosystem](#Wikimedia-in-the-Jupyter-ecosystem)\n",
    "* 10:00 min &mdash; [Potential for further integration](#Potential-for-further-integration)\n",
    "* 11:00 min &mdash; [Conclusions](#Conclusions)\n",
    "* 11:30 min &mdash; [Credits](#Credits)\n",
    "* 11:50 min &mdash; [Contact](#Contact)"
   ]
  },
  {
   "cell_type": "markdown",
   "metadata": {},
   "source": [
    "## Motivation\n",
    "\n",
    "### Part 1: Mission alignment\n",
    "  - Jupyter: \n",
    "    - > [... to support ***interactive data science and scientific computing*** across ***all*** programming languages.](https://jupyter.org/about)\n",
    "  - Wikimedia: \n",
    "    - > [Imagine a world in which every single human being can ***freely share*** in the sum of ***all*** knowledge.](https://wikimediafoundation.org/)\n",
    "  - Me: \n",
    "    - > [... ***data scientist*** integrating ***open research and education*** workflows with the web](https://en.wikipedia.org/wiki/User:Daniel_Mietchen/Biographical_sketch)\n",
    "  - Synthesis:\n",
    "    - > ***How can we leverage Jupyter-based open research and education resources to support the Wikimedia mission, and vice versa?***\n",
    "    \n",
    "### Part 2: Reproducibility\n",
    "  - Was topic of various JupyterCon talks, including\n",
    "    - [I don't like notebooks](https://www.youtube.com/watch?v=7jiPeIFXb6U) by Joel Grus in 2018\n",
    "    - [Post-publication peer review of Jupyter Notebooks referenced in articles on PubMed Central](https://github.com/Daniel-Mietchen/events/blob/master/JupyterCon-2017.md) by myself in 2017, where I briefly mentioned Wikimedia usage\n",
    "  - good progress has been made since, e.g. via the [REPRODUCE-ME](https://github.com/Sheeba-Samuel/REPRODUCE-ME) ontology &mdash; seen in use below as a component of the Jupyter extension [ProvBook](https://github.com/Sheeba-Samuel/ProvBook) &mdash; and the visualization tool [ReproduceMeGit](https://github.com/fusion-jena/ReproduceMeGit) that assesses computational reproducibility\n",
    "    <div class=\"center\"><div class=\"floatnone\"><div class=\"mediaContainer\" style=\"width:800px\"><video id=\"mwe_player_0\" poster=\"//upload.wikimedia.org/wikipedia/commons/thumb/1/13/Demo_video_for_the_ProvBook_extension_of_the_Jupyter_Notebook.webm/800px-seek%3D270-Demo_video_for_the_ProvBook_extension_of_the_Jupyter_Notebook.webm.jpg\" controls=\"\" preload=\"none\" style=\"width:800px;height:450px\" class=\"kskin\" data-durationhint=\"357.12\" data-startoffset=\"0\" data-mwtitle=\"Demo_video_for_the_ProvBook_extension_of_the_Jupyter_Notebook.webm\" data-mwprovider=\"wikimediacommons\"><source src=\"//upload.wikimedia.org/wikipedia/commons/transcoded/1/13/Demo_video_for_the_ProvBook_extension_of_the_Jupyter_Notebook.webm/Demo_video_for_the_ProvBook_extension_of_the_Jupyter_Notebook.webm.480p.vp9.webm\" type=\"video/webm; codecs=&quot;vp9, opus&quot;\" data-title=\"SD VP9 (480P)\" data-shorttitle=\"VP9 480P\" data-transcodekey=\"480p.vp9.webm\" data-width=\"854\" data-height=\"480\" data-bandwidth=\"143224\" data-framerate=\"25\" /><source src=\"//upload.wikimedia.org/wikipedia/commons/transcoded/1/13/Demo_video_for_the_ProvBook_extension_of_the_Jupyter_Notebook.webm/Demo_video_for_the_ProvBook_extension_of_the_Jupyter_Notebook.webm.720p.vp9.webm\" type=\"video/webm; codecs=&quot;vp9, opus&quot;\" data-title=\"HD VP9 (720P)\" data-shorttitle=\"VP9 720P\" data-transcodekey=\"720p.vp9.webm\" data-width=\"1280\" data-height=\"720\" data-bandwidth=\"259032\" data-framerate=\"25\" /><source src=\"//upload.wikimedia.org/wikipedia/commons/transcoded/1/13/Demo_video_for_the_ProvBook_extension_of_the_Jupyter_Notebook.webm/Demo_video_for_the_ProvBook_extension_of_the_Jupyter_Notebook.webm.480p.webm\" type=\"video/webm; codecs=&quot;vp8, vorbis&quot;\" data-title=\"SD WebM (480P)\" data-shorttitle=\"WebM 480P\" data-transcodekey=\"480p.webm\" data-width=\"854\" data-height=\"480\" data-bandwidth=\"297056\" data-framerate=\"25\" /><source src=\"//upload.wikimedia.org/wikipedia/commons/transcoded/1/13/Demo_video_for_the_ProvBook_extension_of_the_Jupyter_Notebook.webm/Demo_video_for_the_ProvBook_extension_of_the_Jupyter_Notebook.webm.1080p.vp9.webm\" type=\"video/webm; codecs=&quot;vp9, opus&quot;\" data-title=\"Full HD VP9 (1080P)\" data-shorttitle=\"VP9 1080P\" data-transcodekey=\"1080p.vp9.webm\" data-width=\"1920\" data-height=\"1080\" data-bandwidth=\"465800\" data-framerate=\"25\" /><source src=\"//upload.wikimedia.org/wikipedia/commons/transcoded/1/13/Demo_video_for_the_ProvBook_extension_of_the_Jupyter_Notebook.webm/Demo_video_for_the_ProvBook_extension_of_the_Jupyter_Notebook.webm.720p.webm\" type=\"video/webm; codecs=&quot;vp8, vorbis&quot;\" data-title=\"HD WebM (720P)\" data-shorttitle=\"WebM 720P\" data-transcodekey=\"720p.webm\" data-width=\"1280\" data-height=\"720\" data-bandwidth=\"533536\" data-framerate=\"25\" /><source src=\"//upload.wikimedia.org/wikipedia/commons/1/13/Demo_video_for_the_ProvBook_extension_of_the_Jupyter_Notebook.webm\" type=\"video/webm; codecs=&quot;vp9&quot;\" data-title=\"Original WebM file, 1,920 × 1,080 (699 kbps)\" data-shorttitle=\"WebM source\" data-width=\"1920\" data-height=\"1080\" data-bandwidth=\"699418\" data-framerate=\"25\" /><source src=\"//upload.wikimedia.org/wikipedia/commons/transcoded/1/13/Demo_video_for_the_ProvBook_extension_of_the_Jupyter_Notebook.webm/Demo_video_for_the_ProvBook_extension_of_the_Jupyter_Notebook.webm.1080p.webm\" type=\"video/webm; codecs=&quot;vp8, vorbis&quot;\" data-title=\"Full HD WebM (1080P)\" data-shorttitle=\"WebM 1080P\" data-transcodekey=\"1080p.webm\" data-width=\"1920\" data-height=\"1080\" data-bandwidth=\"858400\" data-framerate=\"25\" /><source src=\"//upload.wikimedia.org/wikipedia/commons/transcoded/1/13/Demo_video_for_the_ProvBook_extension_of_the_Jupyter_Notebook.webm/Demo_video_for_the_ProvBook_extension_of_the_Jupyter_Notebook.webm.120p.vp9.webm\" type=\"video/webm; codecs=&quot;vp9, opus&quot;\" data-title=\"Lowest bandwidth VP9 (120P)\" data-shorttitle=\"VP9 120P\" data-transcodekey=\"120p.vp9.webm\" data-width=\"214\" data-height=\"120\" data-bandwidth=\"18136\" data-framerate=\"25\" /><source src=\"//upload.wikimedia.org/wikipedia/commons/transcoded/1/13/Demo_video_for_the_ProvBook_extension_of_the_Jupyter_Notebook.webm/Demo_video_for_the_ProvBook_extension_of_the_Jupyter_Notebook.webm.160p.webm\" type=\"video/webm; codecs=&quot;vp8, vorbis&quot;\" data-title=\"Low bandwidth WebM (160P)\" data-shorttitle=\"WebM 160P\" data-transcodekey=\"160p.webm\" data-width=\"284\" data-height=\"160\" data-bandwidth=\"50896\" data-framerate=\"25\" /><source src=\"//upload.wikimedia.org/wikipedia/commons/transcoded/1/13/Demo_video_for_the_ProvBook_extension_of_the_Jupyter_Notebook.webm/Demo_video_for_the_ProvBook_extension_of_the_Jupyter_Notebook.webm.180p.vp9.webm\" type=\"video/webm; codecs=&quot;vp9, opus&quot;\" data-title=\"Low bandwidth VP9 (180P)\" data-shorttitle=\"VP9 180P\" data-transcodekey=\"180p.vp9.webm\" data-width=\"320\" data-height=\"180\" data-bandwidth=\"30096\" data-framerate=\"25\" /><source src=\"//upload.wikimedia.org/wikipedia/commons/transcoded/1/13/Demo_video_for_the_ProvBook_extension_of_the_Jupyter_Notebook.webm/Demo_video_for_the_ProvBook_extension_of_the_Jupyter_Notebook.webm.240p.vp9.webm\" type=\"video/webm; codecs=&quot;vp9, opus&quot;\" data-title=\"Small VP9 (240P)\" data-shorttitle=\"VP9 240P\" data-transcodekey=\"240p.vp9.webm\" data-width=\"426\" data-height=\"240\" data-bandwidth=\"44568\" data-framerate=\"25\" /><source src=\"//upload.wikimedia.org/wikipedia/commons/transcoded/1/13/Demo_video_for_the_ProvBook_extension_of_the_Jupyter_Notebook.webm/Demo_video_for_the_ProvBook_extension_of_the_Jupyter_Notebook.webm.240p.webm\" type=\"video/webm; codecs=&quot;vp8, vorbis&quot;\" data-title=\"Small WebM (240P)\" data-shorttitle=\"WebM 240P\" data-transcodekey=\"240p.webm\" data-width=\"426\" data-height=\"240\" data-bandwidth=\"95328\" data-framerate=\"25\" /><source src=\"//upload.wikimedia.org/wikipedia/commons/transcoded/1/13/Demo_video_for_the_ProvBook_extension_of_the_Jupyter_Notebook.webm/Demo_video_for_the_ProvBook_extension_of_the_Jupyter_Notebook.webm.360p.vp9.webm\" type=\"video/webm; codecs=&quot;vp9, opus&quot;\" data-title=\"VP9 (360P)\" data-shorttitle=\"VP9 360P\" data-transcodekey=\"360p.vp9.webm\" data-width=\"640\" data-height=\"360\" data-bandwidth=\"82456\" data-framerate=\"25\" /><source src=\"//upload.wikimedia.org/wikipedia/commons/transcoded/1/13/Demo_video_for_the_ProvBook_extension_of_the_Jupyter_Notebook.webm/Demo_video_for_the_ProvBook_extension_of_the_Jupyter_Notebook.webm.360p.webm\" type=\"video/webm; codecs=&quot;vp8, vorbis&quot;\" data-title=\"WebM (360P)\" data-shorttitle=\"WebM 360P\" data-transcodekey=\"360p.webm\" data-width=\"640\" data-height=\"360\" data-bandwidth=\"185952\" data-framerate=\"25\" /></video></div></div></div>\n"
   ]
  },
  {
   "cell_type": "markdown",
   "metadata": {},
   "source": [
    "## Jupyter in the Wikimedia ecosystem"
   ]
  },
  {
   "cell_type": "markdown",
   "metadata": {},
   "source": [
    "| The Wikimedia ecosystem | Project Jupyter | \n",
    "|---|---|\n",
    "|[![](https://upload.wikimedia.org/wikipedia/commons/thumb/1/1d/Wikimedia_logo_family_complete-2013.svg/600px-Wikimedia_logo_family_complete-2013.svg.png)](https://commons.wikimedia.org/wiki/File:Wikimedia_logo_family_complete-2013.svg) |[![](https://upload.wikimedia.org/wikipedia/commons/thumb/3/38/Jupyter_logo.svg/207px-Jupyter_logo.svg.png)](https://commons.wikimedia.org/wiki/File:Jupyter_logo.svg) |\n"
   ]
  },
  {
   "cell_type": "markdown",
   "metadata": {},
   "source": [
    "### Some easy finds\n",
    "\n",
    "* Wikipedia articles about\n",
    "  - [Programming language](https://en.wikipedia.org/wiki/Programming_language) (ca. [10000 daily pageviews across over 100 languages](https://pageviews.toolforge.org/langviews/?project=en.wikipedia.org&platform=all-access&agent=user&start=2020-01-01&end=2020-08-31&sort=views&direction=1&view=list&page=Programming%20language))\n",
    "    - multiple [lists of programming languages](https://en.wikipedia.org/wiki/Lists_of_programming_languages) [![](https://upload.wikimedia.org/wikipedia/commons/thumb/a/ae/Screenshot_of_the_English_Wikipedia_entry_for_Lists_of_programming_languages_as_of_19_September_2020.png/766px-Screenshot_of_the_English_Wikipedia_entry_for_Lists_of_programming_languages_as_of_19_September_2020.png)](https://commons.wikimedia.org/wiki/File:Screenshot_of_the_English_Wikipedia_entry_for_Lists_of_programming_languages_as_of_19_September_2020.png)\n",
    "  - [Project Jupyter](https://en.wikipedia.org/wiki/Project_Jupyter) ([ca. 1000 pageviews a day across 8 languages](https://pageviews.toolforge.org/langviews/?project=en.wikipedia.org&platform=all-access&agent=user&start=2020-01-01&end=2020-08-31&sort=views&direction=1&view=list&page=Project%20Jupyter)) [![](https://upload.wikimedia.org/wikipedia/commons/thumb/c/cc/Screenshot_of_the_Korean_Wikipedia_article_on_Project_Jupyter_as_of_19_September_2020.png/432px-Screenshot_of_the_Korean_Wikipedia_article_on_Project_Jupyter_as_of_19_September_2020.png)](https://commons.wikimedia.org/wiki/File:Screenshot_of_the_Korean_Wikipedia_article_on_Project_Jupyter_as_of_19_September_2020.png)\n",
    "  - [Fernando Pérez](https://en.wikipedia.org/wiki/Fernando%20P%C3%A9rez%20%28software%20developer%29) (ca. [50 pageviews per day across 6 languages](https://pageviews.toolforge.org/langviews/?project=en.wikipedia.org&platform=all-access&agent=user&start=2020-01-01&end=2020-08-31&sort=views&direction=1&view=list&page=Fernando%20P%C3%A9rez%20%28software%20developer%29))\n",
    "  - [Binder project](https://en.wikipedia.org/wiki/Binder_Project)  (ca. [9 pageviews a day, only in English so far](https://pageviews.toolforge.org/langviews/?project=en.wikipedia.org&platform=all-access&agent=user&start=2020-01-01&end=2020-08-31&sort=views&direction=1&view=list&page=Binder_Project))\n",
    "* [Wikimedia Commons category for Project Jupyter](https://commons.wikimedia.org/wiki/Category:Project_Jupyter) (ca. [24 pageviews per day](https://pageviews.toolforge.org/massviews/?platform=all-access&agent=user&source=category&start=2020-01-01&end=2020-08-31&subjectpage=0&subcategories=0&sort=views&direction=1&view=list&target=https://commons.wikimedia.org/wiki/Category:Project_Jupyter))\n",
    "* This notebook ([public copy](https://public.paws.wmcloud.org/User:Daniel_Mietchen/JupyterCon-2020/JupyterCon%202020%20talk.ipynb)) runs on [PAWS](https://wikitech.wikimedia.org/wiki/PAWS), a JupyterHub installation in the [Wikimedia Cloud](https://en.wikipedia.org/wiki/Wikipedia:Wikimedia_Cloud_Services) [![](https://upload.wikimedia.org/wikipedia/commons/f/fc/Overview_of_currently_running_processes_for_a_user_of_the_Wikimedia_Web_Shell_PAWS.png)](https://commons.wikimedia.org/wiki/File:Overview_of_currently_running_processes_for_a_user_of_the_Wikimedia_Web_Shell_PAWS.png)\n"
   ]
  },
  {
   "cell_type": "markdown",
   "metadata": {},
   "source": [
    "### Digging a little deeper\n",
    "\n",
    "#### Jupyter in the context of the Wikidata knowledge graph\n",
    "* [7-min introductory video about Wikidata](https://www.youtube.com/watch?v=24DOvuZWaD0)\n"
   ]
  },
  {
   "cell_type": "markdown",
   "metadata": {},
   "source": [
    "One way to look at Jupyter through the lense of Wikidata: \n",
    " - [WikiDP](https://wikidp.org/search?string=Jupyter)\n",
    "\n",
    "[![](https://upload.wikimedia.org/wikipedia/commons/thumb/1/10/Screenshot_of_the_Wikidata_for_Digital_Preservation_search_results_for_the_string_Jupyter_as_of_19_September_2020.png/1599px-Screenshot_of_the_Wikidata_for_Digital_Preservation_search_results_for_the_string_Jupyter_as_of_19_September_2020.png)](https://commons.wikimedia.org/wiki/File:Screenshot_of_the_Wikidata_for_Digital_Preservation_search_results_for_the_string_Jupyter_as_of_19_September_2020.png)\n",
    "\n",
    "[![](https://upload.wikimedia.org/wikipedia/commons/thumb/e/ea/Screenshot_of_the_Wikidata_for_Digital_Preservation_entry_for_Jupyter_notebook_in_English_as_of_19_September_2020.png/1600px-Screenshot_of_the_Wikidata_for_Digital_Preservation_entry_for_Jupyter_notebook_in_English_as_of_19_September_2020.png)](https://commons.wikimedia.org/wiki/File:Screenshot_of_the_Wikidata_for_Digital_Preservation_entry_for_Jupyter_notebook_in_English_as_of_19_September_2020.png)"
   ]
  },
  {
   "cell_type": "markdown",
   "metadata": {},
   "source": [
    "Another way to look at Jupyter through Wikidata\n",
    "* Wikidata-based [scholarly profile of Project Jupyter](https://scholia.toolforge.org/topic/Q55630549) on [Scholia](https://www.wikidata.org/wiki/Wikidata:Scholia) [![](https://upload.wikimedia.org/wikipedia/commons/1/11/Scholia_profile_of_Project_Jupyter_as_of_20_September_2020.gif)](https://commons.wikimedia.org/wiki/File:Scholia_profile_of_Project_Jupyter_as_of_20_September_2020.gif)"
   ]
  },
  {
   "cell_type": "markdown",
   "metadata": {},
   "source": [
    "**We are in the process of [upgrading Scholia](https://doi.org/10.3897/rio.5.e35820), and Jupyter-based approaches like [Voilà](https://voila.readthedocs.io/en/stable/index.html) and [papermill](https://github.com/nteract/papermill) are amongst the options we are considering.** Feedback on this is most welcome."
   ]
  },
  {
   "cell_type": "markdown",
   "metadata": {},
   "source": [
    "### Features of programming languages\n",
    "\n",
    "* from [Python syntax and semantics: Data structures](https://en.wikipedia.org/w/index.php?title=Python_syntax_and_semantics&oldid=972138057#Data_structures)\n",
    "\n",
    "```Python\n",
    ">>> alist = ['a', 'b', 'c']\n",
    ">>> def my_func(al):\n",
    "...     al.append('x')\n",
    "...     print(al)\n",
    "...\n",
    ">>> my_func(alist)\n",
    "['a', 'b', 'c', 'x']\n",
    ">>> alist\n",
    "['a', 'b', 'c', 'x']\n",
    "```"
   ]
  },
  {
   "cell_type": "markdown",
   "metadata": {},
   "source": [
    "- But is this correct? Wikimedia projects can be edited by anyone, so a lot of emphasis is put on [Verifiability](https://en.wikipedia.org/wiki/Wikipedia:Verifiability), commonly abbreviated as [Citation needed](https://en.wikipedia.org/wiki/Wikipedia:Citation_needed).\n",
    "[![](https://upload.wikimedia.org/wikipedia/commons/thumb/9/9a/Citation_needed_-_March_for_Science_%28cropped%29.jpg/611px-Citation_needed_-_March_for_Science_%28cropped%29.jpg)](https://commons.wikimedia.org/wiki/File:Citation_needed_-_March_for_Science_(cropped).jpg)"
   ]
  },
  {
   "cell_type": "markdown",
   "metadata": {},
   "source": [
    "What if each such code snippet were linked to a Jupyter implementation hosted on PAWS, Binder or similar, so that users could readily verify it and interact with it right away?"
   ]
  },
  {
   "cell_type": "code",
   "execution_count": 1,
   "metadata": {},
   "outputs": [],
   "source": [
    "def my_func(al):\n",
    "...     al.append('x')\n",
    "...     print(al)\n",
    "..."
   ]
  },
  {
   "cell_type": "code",
   "execution_count": 3,
   "metadata": {},
   "outputs": [
    {
     "data": {
      "text/plain": [
       "['a', 'b', 'c']"
      ]
     },
     "execution_count": 3,
     "metadata": {},
     "output_type": "execute_result"
    }
   ],
   "source": [
    "alist = ['a', 'b', 'c']\n",
    "alist"
   ]
  },
  {
   "cell_type": "code",
   "execution_count": 4,
   "metadata": {},
   "outputs": [
    {
     "name": "stdout",
     "output_type": "stream",
     "text": [
      "['a', 'b', 'c', 'x']\n"
     ]
    },
    {
     "data": {
      "text/plain": [
       "['a', 'b', 'c', 'x']"
      ]
     },
     "execution_count": 4,
     "metadata": {},
     "output_type": "execute_result"
    }
   ],
   "source": [
    "my_func(alist)\n",
    "alist"
   ]
  },
  {
   "cell_type": "markdown",
   "metadata": {},
   "source": [
    "A similar case: [Centripetal Catmull–Rom spline](https://en.wikipedia.org/w/index.php?title=Centripetal_Catmull%E2%80%93Rom_spline&oldid=956131687#Code_example_in_Python) has an implementation in Python:"
   ]
  },
  {
   "cell_type": "code",
   "execution_count": 5,
   "metadata": {
    "scrolled": true
   },
   "outputs": [
    {
     "data": {
      "image/png": "[encoded data removed]",
      "text/plain": [
       "<Figure size 432x288 with 1 Axes>"
      ]
     },
     "metadata": {
      "needs_background": "light"
     },
     "output_type": "display_data"
    }
   ],
   "source": [
    "import numpy\n",
    "import pylab as plt\n",
    "\n",
    "def CatmullRomSpline(P0, P1, P2, P3, nPoints=100):\n",
    "    \"\"\"\n",
    "    P0, P1, P2, and P3 should be (x,y) point pairs that define the Catmull-Rom spline.\n",
    "    nPoints is the number of points to include in this curve segment.\n",
    "    \"\"\"\n",
    "    # Convert the points to numpy so that we can do array multiplication\n",
    "    P0, P1, P2, P3 = map(numpy.array, [P0, P1, P2, P3])\n",
    "\n",
    "    # Parametric constant: 0.5 for the centripetal spline, 0.0 for the uniform spline, 1.0 for the chordal spline.\n",
    "    alpha = 0.5\n",
    "    # Premultiplied power constant for the following tj() function.\n",
    "    alpha = alpha/2\n",
    "    def tj(ti, Pi, Pj):\n",
    "        xi, yi = Pi\n",
    "        xj, yj = Pj\n",
    "        return ((xj-xi)**2 + (yj-yi)**2)**alpha + ti\n",
    "\n",
    "    # Calculate t0 to t4\n",
    "    t0 = 0\n",
    "    t1 = tj(t0, P0, P1)\n",
    "    t2 = tj(t1, P1, P2)\n",
    "    t3 = tj(t2, P2, P3)\n",
    "\n",
    "    # Only calculate points between P1 and P2\n",
    "    t = numpy.linspace(t1, t2, nPoints)\n",
    "\n",
    "    # Reshape so that we can multiply by the points P0 to P3\n",
    "    # and get a point for each value of t.\n",
    "    t = t.reshape(len(t), 1)\n",
    " #   print(t)\n",
    "    A1 = (t1-t)/(t1-t0)*P0 + (t-t0)/(t1-t0)*P1\n",
    "    A2 = (t2-t)/(t2-t1)*P1 + (t-t1)/(t2-t1)*P2\n",
    "    A3 = (t3-t)/(t3-t2)*P2 + (t-t2)/(t3-t2)*P3\n",
    "#    print(A1)\n",
    "#    print(A2)\n",
    "#    print(A3)\n",
    "    B1 = (t2-t)/(t2-t0)*A1 + (t-t0)/(t2-t0)*A2\n",
    "    B2 = (t3-t)/(t3-t1)*A2 + (t-t1)/(t3-t1)*A3\n",
    "\n",
    "    C = (t2-t)/(t2-t1)*B1 + (t-t1)/(t2-t1)*B2\n",
    "    return C\n",
    "\n",
    "def CatmullRomChain(P):\n",
    "    \"\"\"\n",
    "    Calculate Catmull–Rom for a chain of points and return the combined curve.\n",
    "    \"\"\"\n",
    "    sz = len(P)\n",
    "\n",
    "    # The curve C will contain an array of (x, y) points.\n",
    "    C = []\n",
    "    for i in range(sz-3):\n",
    "        c = CatmullRomSpline(P[i], P[i+1], P[i+2], P[i+3])\n",
    "        C.extend(c)\n",
    "\n",
    "    return C\n",
    "\n",
    "# Define a set of points for curve to go through\n",
    "Points = [[0, 1.5], [2, 2], [3, 1], [4, 0.5], [5, 1], [6, 2], [7, 3]]\n",
    "\n",
    "# Calculate the Catmull-Rom splines through the points\n",
    "c = CatmullRomChain(Points)\n",
    "\n",
    "# Convert the Catmull-Rom curve points into x and y arrays and plot\n",
    "x, y = zip(*c)\n",
    "plt.plot(x, y)\n",
    "\n",
    "# Plot the control points\n",
    "px, py = zip(*Points)\n",
    "plt.plot(px, py, 'or')\n",
    "\n",
    "plt.show()"
   ]
  },
  {
   "cell_type": "markdown",
   "metadata": {},
   "source": [
    "### Algorithms\n",
    "* Lots of algorithms covered across the Wikimedia ecosystem\n",
    "  - working out the details of how to cover them can be [tedious](https://en.wikipedia.org/w/index.php?title=Talk:Smallest-circle_problem&oldid=963435390#Incorrect_algorithm)\n",
    "* Example: [Wikimedia Commons category \"Animations of sort algorithms\"](https://commons.wikimedia.org/wiki/Category:Animations_of_sort_algorithms) &mdash; some of these are used on [hundreds of pages](https://commons.wikimedia.org/w/index.php?title=Special:GlobalUsage&offset=&limit=500&target=Sorting+quicksort+anim.gif) that combined receive [thousands of pageviews per day](https://pageviews.toolforge.org/langviews/?project=en.wikipedia.org&platform=all-access&agent=user&start=2020-01-01&end=2020-08-31&sort=views&direction=1&view=list&page=Bubble%20sort)\n",
    "[![](https://upload.wikimedia.org/wikipedia/commons/thumb/5/5c/Animation_of_media_files_in_the_Wikimedia_Commons_category_for_animations_of_sort_algorithms%2C_as_of_18_September_2020.gif/407px-Animation_of_media_files_in_the_Wikimedia_Commons_category_for_animations_of_sort_algorithms%2C_as_of_18_September_2020.gif)](https://commons.wikimedia.org/wiki/File:Animation_of_media_files_in_the_Wikimedia_Commons_category_for_animations_of_sort_algorithms,_as_of_18_September_2020.gif)\n",
    "  * Some problems with such GIFs: \n",
    "    - parameters of the animation are static\n",
    "    - users cannot change the underlying data or code, e.g. to explore edge cases of the algorithm or implementations in different programming languages\n",
    "    - it's hard to use them to compare different algorithms ([example](https://en.wikipedia.org/wiki/User:Simpsons_contributor/SortingAlgorithms))\n",
    "    - usually no or no direct link to the code that ran the animation\n",
    "  * [Bead sort](https://en.wikipedia.org/w/index.php?title=Bead_sort&oldid=944625018#Implementation) article provides the essential bits of an implementation in Python, but nothing that can be run or explored."
   ]
  },
  {
   "cell_type": "markdown",
   "metadata": {},
   "source": [
    "### Some more examples\n",
    "\n",
    "* Wikipedia articles like [Time-based One-time Password algorithm](https://en.wikipedia.org/w/index.php?title=Time-based_One-time_Password_algorithm&oldid=974495774#External_links) or [HMAC-based One-time Password algorithm](https://en.wikipedia.org/wiki/HMAC-based_One-time_Password_algorithm) link to Jupyter noteboooks with [Python implementations](https://nbviewer.jupyter.org/github/algorithmic-space/cryptoy/blob/master/rfc6238.ipynb) of the algorithms\n",
    "* PAWS-based Jupyter notebooks are used in the [manual for PyWikiBot](https://www.mediawiki.org/wiki/Manual:Pywikibot/PAWS), one of the main frameworks for automated curation or exploration of Wikimedia content\n",
    "  - examples: \n",
    "    - [Jupyter notebooks](https://public.paws.wmcloud.org/User:OlafJanssen/%20DutchPublicLibraries_OpenStreetMap%20.ipynb) as well as Jupyter-Leaflet and Jupyter-widgets were used at a [map making workshop at Wikimania 2019](https://wikimania.wikimedia.org/wiki/2019:GLAM/Map_making_workshop_%E2%80%93_from_Wikidata_to_interactive_off-wiki_maps_in_three_steps) \n",
    "    - [Jupyter notebook](https://public.paws.wmcloud.org/User:99of9/Covid-19.ipynb) that formed the basis of several visualizations for a [manuscript](https://doi.org/10.5281/zenodo.4028482) about Wikidata's coverage of the COVID-19 pandemic\n",
    "    - [Jupyter notebook](https://public.paws.wmcloud.org/User:Daniel_Mietchen/Toolforge-pageview-stats/pageview-statistics-scholia.ipynb) for computing traffic to the Scholia service\n",
    "* Several Jupyter notebooks used to document various aspects of a [research project on content translation in Wikipedia](https://meta.wikimedia.org/wiki/Research:Evaluating_Success_for_Content_Translation)\n",
    "* Jupyter is [used](https://wikitech.wikimedia.org/wiki/Analytics/Systems/Jupyter) as part of the internal analytics workflows at the Wikimedia Foundation\n",
    "  - sample notebook on [blocked users by operating system](https://analytics.wikimedia.org/published/datasets/ios-reports/iOS%20app%20edit%20and%20registration%20block.html)\n",
    "* Several [Jupyter notebooks](https://public.paws.wmcloud.org/51232205/CoronaAllRelatedPagesJun15.ipynb) that formed the basis of the [Wikimedia Foundation's portal for COVID-19-related traffic-based analytics](https://wikimediafoundation.org/covid19/data/)\n",
    "* [Jupyter chapter in a scientific computation book](https://fr.wikibooks.org/wiki/Python_pour_le_calcul_scientifique/D%C3%A9couverte_de_Python_et_de_Jupyter) on the French Wikibooks\n",
    "* [Jupyter notebook](https://github.com/DieDatenlaube/DieDatenlaube/blob/master/RIS_Export-Gartenlaube_Krieg1870.ipynb) for exporting metadata of 19th century publications from the German Wikisource into a format commonly used by libraries\n",
    "* [Jupyter notebook](https://github.com/SuLab/Wikidata-phenomizer/blob/master/jupyter_demo/wikidata%20phenomizer%20demo.ipynb) demonstrating the mapping between diseases and their phenotypes, using the Human Phenotype Ontology database and Wikidata\n",
    "* Jupyter notebooks serving as an example for working with text files, in [Introducing Julia](https://en.wikibooks.org/wiki/Introducing_Julia/Working_with_text_files#File_information) on the English Wikibooks\n",
    "* Jupyter notebook as an [illustration of a Wikipedia article on the quantum computing kit Qiskit](https://en.wikipedia.org/w/index.php?title=Qiskit&oldid=976503719)\n",
    "  - [Qiskit course materials in French](https://commons.wikimedia.org/wiki/File:Informatique_quantique_-_travaux_pratiques_-_ECE_Paris_(2019).pdf)\n",
    "* [JupyterCon](https://www.wikidata.org/wiki/Q99439678) in Wikidata\n",
    "* [PAWS-related tickets](https://phabricator.wikimedia.org/tag/paws/) on the Wikimedia Phabricator \n",
    "  - e.g. [RStudio Server running on JupyterHub on internal PAWS](https://phabricator.wikimedia.org/T180270)\n",
    "* iPython question as part of a [Python quiz](https://en.wikiversity.org/wiki/Python_Concepts/Quizzes/Installation) on the English Wikiversity\n",
    "* [Template:User_Jupyter](https://zh.wikipedia.org/wiki/Template:User_Jupyter) (Chinese & English Wikipedia, Wikidata)\n",
    "* [List of software using the Qt toolkit](https://www.wikidata.org/wiki/Wikidata:WikiProject_Informatics/Software/List_of_software_using_the_Qt_toolkit) in Wikidata\n",
    "* [draft](https://www.mediawiki.org/wiki/Extension:NotebookViewer) of a MediaWiki extension for rendering Jupyter notebooks\n",
    "* [web search](https://www.google.com/search?q=%28site%3Awikipedia.org+OR+site%3Awikivoyage.org+OR+site%3Awikimedia.org+OR+site%3Awikibooks.org+OR+site%3Amediawiki.org+OR+site%3Awikitech.org+OR+site%3Awikisource.org+OR+site%3Awikiquote.org+OR+site%3Awikinews.org+OR+site%3Awikidata.org%29+AND+%28nbviewer+OR+ipynb+OR+mybinder+OR+jupyter+OR+ipython%29&oq=%28site%3Awikipedia.org+OR+site%3Awikivoyage.org+OR+site%3Awikimedia.org+OR+site%3Awikibooks.org+OR+site%3Amediawiki.org+OR+site%3Awikitech.org+OR+site%3Awikisource.org+OR+site%3Awikiquote.org+OR+site%3Awikinews.org+OR+site%3Awikidata.org%29+AND+%28nbviewer+OR+mybinder+OR+jupyter+OR+ipython%29) / [search inside a MediaWiki instance](https://en.wikipedia.org/w/index.php?title=Special:Search&limit=100&offset=0&ns0=1&ns9=1&ns12=1&search=Jupyter%2A)\n",
    "* [Wikimedia Commons](https://commons.wikimedia.org/w/index.php?cirrusUserTesting=mediasearch_commons_int&sort=relevance&search=Jupyter&title=Special:Search&profile=advanced&fulltext=1&advancedSearch-current=%7B%7D&ns0=1&ns1=1&ns2=1&ns3=1&ns4=1&ns5=1&ns6=1&ns7=1&ns8=1&ns9=1&ns10=1&ns11=1&ns12=1&ns13=1&ns14=1&ns15=1&ns100=1&ns101=1&ns102=1&ns103=1&ns104=1&ns105=1&ns106=1&ns107=1&ns460=1&ns461=1&ns486=1&ns487=1&ns490=1&ns491=1&ns828=1&ns829=1&ns1198=1&ns1199=1&ns2300=1&ns2301=1&ns2302=1&ns2303=1&searchToken=5figo091bfj49x281kbz9n7dn)\n"
   ]
  },
  {
   "cell_type": "markdown",
   "metadata": {},
   "source": [
    "### Barriers to reuse of Jupyter in Wikimedia contexts\n",
    "\n",
    "* (software) dependencies: still a problem, but with tools like  [ReproduceMeGit](https://github.com/fusion-jena/ReproduceMeGit), we're getting better\n",
    "* licensing: many notebooks do not have clear licensing, or licenses more suitable for code than documentation, data or other associated materials\n",
    "\n"
   ]
  },
  {
   "cell_type": "markdown",
   "metadata": {},
   "source": [
    "### Data sets\n",
    "\n",
    "* [LIGO Binder](https://github.com/minrk/ligo-binder) &mdash; a great resource on a fascinating subject, the detection of gravitational waves: [![Binder](http://mybinder.org/badge.svg)](https://beta.mybinder.org/v2/gh/minrk/ligo-binder/master?filepath=index.ipynb)\n",
    "  - problem: like many other Jupyter resources, it does not come with clear and open licensing, which limits reuse in Wikimedia contexts\n",
    "    - for example, the original paper on the gravitational wave detection was openly licensed, so some of its images have been reused to illustrate Wikipedia articles on the matter ([example](https://commons.wikimedia.org/w/index.php?title=Special:GlobalUsage&offset=&limit=500&target=LIGO+measurement+of+gravitational+waves.svg))\n",
    "     - the paper was accompanied by the Jupyter notebook on Binder that contained figures also found in the paper and some sonifications not shared as part of the paper, and due to the unclear licensing, these sonifications did not find their way into Wikipedia.\n",
    "* [Seismo-Live](https://krischer.github.io/seismo_live_build/tree/index.html) &mdash; Jupyter notebooks covering different aspects of seismology, e.g. [determining an earthquake's location](https://mybinder.org/v2/gh/krischer/seismo_live_build/master?filepath=Seismic%20Inverse%20Problems%2FEarthquake%20Location%2Fel_hypocenter.ipynb) (on Binder) as an [inverse problem](https://en.wikipedia.org/wiki/Inverse_problem).\n"
   ]
  },
  {
   "cell_type": "markdown",
   "metadata": {},
   "source": [
    "## Wikimedia in the Jupyter ecosystem\n",
    "* Wikipedia-related research was featured prominently in the [announcement](https://github.blog/2015-05-07-github-jupyter-notebooks-3/) of Jupyter integration on GitHub\n",
    "* Wikipedia is often referenced anywhere on the web, including in GitHub repos full of Jupyter notebooks ([example](https://archive.org/details/github.com-norvig-pytudes_-_2020-02-23_20-54-08))\n",
    "* [Demo](https://gist.github.com/bearloga/13f9fd5c274c34e59ba08e8905283517) of R package integration into Jupyter shows how to fetch Wikipedia pageview data\n",
    "* [Jupyter kernel for SPARQL](https://github.com/paulovn/sparql-kernel), showing [candidate items to be portrayed in Jupyter notebooks: items about an algorithm or mathematical formula but with no associated image or Wikimedia Commons category](https://w.wiki/cjY), executed via [via MyBinder](https://github.com/betatim/sparql-notebooks)). [![](https://upload.wikimedia.org/wikipedia/commons/thumb/5/5b/Screenshot_of_a_Jupyter_Notebook_with_SPARQL_kernel_after_running_a_query_to_the_Wikidata_Query_Service_as_of_21_September_2020.png/800px-Screenshot_of_a_Jupyter_Notebook_with_SPARQL_kernel_after_running_a_query_to_the_Wikidata_Query_Service_as_of_21_September_2020.png)](https://commons.wikimedia.org/wiki/File:Screenshot_of_a_Jupyter_Notebook_with_SPARQL_kernel_after_running_a_query_to_the_Wikidata_Query_Service_as_of_21_September_2020.png)"
   ]
  },
  {
   "cell_type": "markdown",
   "metadata": {},
   "source": [
    "## Potential for further integration"
   ]
  },
  {
   "cell_type": "markdown",
   "metadata": {},
   "source": [
    "* Adding more Jupyter to Wikimedia\n",
    "  * Jupyter can be (and is being) used to illustrate things like\n",
    "    - features of programming languages 🔍\n",
    "    - mathematical formulas\n",
    "    - algorithms 🔍\n",
    "    - datasets or data structures 🔍\n",
    "    - math problems in general, or math aspects of any other problem\n",
    "    - computational reproducibility \n",
    "  * Wikimedia sites are widely consulted for education about any of these subjects\n",
    "    - If you wrote a Jupyter notebook for educational purposes, chances are that it could serve these purposes through Wikimedia projects too.\n",
    "    - If you wrote code that adds functionality to Jupyter notebooks, JupyterHub, Binder or other parts of the Jupyter ecosystem, chances are that the functionality would be of interest to Jupyter users within the Wikimedia community, or even to users of Wikimedia contents.\n",
    "    * What about systematically \n",
    "      - integrating existing Jupyter resources into the Wikimedia ecosystem?\n",
    "      - creating Jupyter resources to fill relevant gaps in the Wikimedia coverage?\n",
    "      - citing such Jupyter resources as references for claims that they can address?\n",
    "       - This requires reproducibility, as per introduction\n",
    "\n",
    "* Adding more Wikimedia to Jupyter\n",
    "  - Complement 'Hello world' examples for Jupyter kernels with some 'Hello wiki' examples ([prototype](https://twitter.com/fleirecastro/status/1306297318107348992)), e.g. fetching the first paragraph of a Wikipedia article about the kernel's language, or running a Wikidata query?\n",
    "  - Use Wikidata identifiers in Jupyter documentation when referring to general concepts?\n",
    "  - Use [Wikibase](https://wikiba.se/) to build a registry of Jupyter-related installations?\n",
    "    - Turn Project Jupyter's [A gallery of interesting Jupyter Notebooks](https://github.com/jupyter/jupyter/wiki/A-gallery-of-interesting-Jupyter-Notebooks) into a Wikibase that has a (robust) NotebookViewer extension installed to view notebooks, links to Binder to facilitate re-running them, and has a SPARQL endpoint that allows to query across the collection, perhaps in a federated way.\n",
    "* Combining Wikimedia and Jupyter in new contexts\n",
    "  - imagine if [Rosetta Code](https://rosettacode.org/wiki/Rosetta_Code) (which already uses MediaWiki) had Jupyter/ Binder layers, so that more users could get a glimpse of how programming languages unfamiliar to them might behave in specific contexts\n",
    "  - the Internet Archive has been actively archiving links cited from Wikimedia projects, including Jupyter notebooks\n"
   ]
  },
  {
   "cell_type": "markdown",
   "metadata": {},
   "source": [
    "# Further notes\n",
    "\n",
    "* Jupyter notebooks to increase replicability of research studies, including about Wikimedia projects like Wikidata\n",
    "  - example:\n",
    "    - paper: [Commonsense Knowledge in Wikidata](https://arxiv.org/abs/2008.08114)\n",
    "    - [notebooks](https://github.com/usc-isi-i2/cskg/tree/master/wikidata)\n",
    "* Usage examples\n",
    "  * Wiki pages about Jupyter\n",
    "    * Wikidata\n",
    "      * [Map Making Workshop](https://github.com/KBNLwikimedia/WikidataMapMakingWorkshop) by [Royal Dutch Library](https://www.wikidata.org/wiki/Wikidata:GLAM/Koninklijke_Bibliotheek_Nederland)\n",
    "    * Wikibooks\n",
    "      * [Découverte de Python et de Jupyter](https://fr.wikibooks.org/wiki/Python_pour_le_calcul_scientifique/D%C3%A9couverte_de_Python_et_de_Jupyter#Installer_Jupyter)\n",
    "    * Wikimania\n",
    "      * [2019](https://wikimania.wikimedia.org/w/index.php?search=Jupyter&title=Special%3ASearch&go=Go&ns0=1&ns128=1)\n",
    "      * [pre-2019](https://meta.wikimedia.org/w/index.php?search=Jupyter+Wikimania&title=Special%3ASearch&go=Go&ns0=1&ns12=1&ns200=1&ns202=1)\n",
    "        - e.g. Wikimania 2014 talk [Open Scholarship Tools](https://nbviewer.jupyter.org/github/IanMulvany/wikimania-open-scholarship-tools/blob/master/WikimaniaOpenScholarshipTalk.ipynb)\n",
    "    * Meta\n",
    "      - [search](https://meta.wikimedia.org/w/index.php?sort=relevance&search=ipynb&title=Special:Search&profile=advanced&fulltext=1&advancedSearch-current=%7B%7D&ns0=1&ns1=1&ns2=1&ns3=1&ns4=1&ns5=1&ns6=1&ns7=1&ns8=1&ns9=1&ns10=1&ns11=1&ns12=1&ns13=1&ns14=1&ns15=1&ns200=1&ns201=1&ns202=1&ns203=1&ns206=1&ns207=1&ns470=1&ns471=1&ns482=1&ns483=1&ns828=1&ns829=1&ns866=1&ns867=1&ns1198=1&ns1199=1&ns2300=1&ns2301=1&ns2302=1&ns2303=1&searchToken=2m0bvery58w03wupd1b8ntv9z)\n",
    "  * Jupyter notebooks in wiki pages \n",
    "    * as references\n",
    "      * [baseball stats](https://en.wikipedia.org/w/index.php?title=Chuck_Nieson&oldid=971841978#cite_note-1)\n",
    "      * [optimization software](https://en.wikipedia.org/w/index.php?title=Gekko_(optimization_software)&oldid=970061912#cite_note-26)\n",
    "    * infoboxes\n",
    "      * [documentation](https://en.wikipedia.org/w/index.php?title=Open_energy_system_models&oldid=973759702#NEMO)\n",
    "  * Jupyter notebooks to generate illustrations\n",
    "    * [Human disease network](https://en.wikipedia.org/w/index.php?title=Human_disease_network&oldid=936368133#cite_note-1)\n",
    "      * plotly and igraph are not installed on the Binder server\n",
    "        * \"Note: you may need to restart the kernel to use updated packages.\"\n",
    "    * [Riemann zeta function](https://en.wikipedia.org/w/index.php?title=Riemann_zeta_function&oldid=974660152#cite_note-1) &mdash; provenance unclear, so worth trying it out on Binder, but matplotlib is missing on the Binder server\n",
    "      - [DomainColoring.ipynb](https://nbviewer.jupyter.org/github/empet/Math/blob/master/DomainColoring.ipynb)\n",
    "    * [Most Popular Wikipedia Articles of the Week (May 19 to 25, 2019)](https://en.m.wikipedia.org/wiki/File:Most_Popular_Wikipedia_Articles_of_the_Week_(June_2_to_8,_2019).png)\n",
    "      * \"We can't seem to find the Binder page you are looking for.\"\n",
    "    * [Qiskit screenshot](https://commons.wikimedia.org/w/index.php?title=File:Qiskit_screenshot.png&oldid=326711914)\n",
    "      * points to a URL that gives a 404; code has been [reorganized](https://github.com/redisa/QiskitTutorial/blob/master/games/quantum_awesomeness.ipynb)\n",
    "  * Jupyter notebooks for educational purposes\n",
    "    - [PyWikiBot tutorial](https://commons.wikimedia.org/wiki/File:Paws_notebook_showing_how_to_load_wikidata_item_dictionary.png)\n",
    "    - [SPARQL tutorial](https://colab.research.google.com/drive/1EJiMsyYofEr3lOLTGY2sYaFQpKuN_IlN#scrollTo=qL8XNH13k2Wq)\n",
    "    - [open geodata tutorial](https://github.com/opendatazurich/wikidata-training)\n",
    "  * Jupyter notebooks for Wikidata queries\n",
    "    - examples: \n",
    "      - [Binder link](https://gitlab.com/PersonalDataIO/wikidata/blob/master/README.md)\n",
    "      - [COVID-19 information](https://public.paws.wmcloud.org/User:99of9/Covid-19.ipynb)\n",
    "  * Jupyter notebooks in discussions\n",
    "    * [finite element modelling](https://de.wikipedia.org/w/index.php?title=Wikipedia:Auskunft/Archiv/2017/Woche_25&oldid=194920685#Kostenlose_FEM-Software)\n",
    "  * Jupyter notebooks for presentional purposes\n",
    "    * see also under Wikimania\n",
    "  * Jupyter notebooks for testing purposes\n",
    "    * [Wikidata subsetting](https://www.wikidata.org/wiki/Wikidata:WikiProject_Schemas/Subsetting)\n",
    "      - [Jupyter notebook (on Colab) to copy items from Wikidata into another Wikibase](https://colab.research.google.com/drive/1DDws0pGPmP6eKwuDeSCHTCf6PYYMw9OL)\n",
    "    * [prototyping of bot code](https://colab.research.google.com/drive/1GRVji8FBQd4xw3JipY8b5vG1Soip98My)\n",
    "    * [importing schema.org into a Wikibase instance](https://colab.research.google.com/drive/1wVKGNYggYDnojKiqKMvt5Z5o_fzXbm00)\n",
    "  * Jupyter notebooks to analyze event/ campaign participation data\n",
    "    - [Wiki Loves Africa 2019](https://meta.wikimedia.org/w/index.php?title=Wiki_Loves_Africa_2020/Mass_messages&oldid=20344248#Helpful_figures_and_stats)\n",
    "      - [notebook](https://public.paws.wmcloud.org/User:CS_natematias/Query%20WikiLovesAfrica%20Images%20and%20How%20Often%20They%20Were%20Viewed.ipynb)\n",
    "  * Jupyter notebooks for editing\n",
    "    * [page redirects](https://de.wikipedia.org/w/index.php?title=Wikipedia:Fragen_zur_Wikipedia/Archiv/2018/Woche_17&oldid=177213623#Fehlende_Weiterleitungen_effizient_anlegen)\n",
    "    * [Wikidata Integrator example](https://www.wikidata.org/wiki/Wikidata:Creating_a_bot#Example_Notebook)\n",
    "  * [PAWS-Internal](https://meta.wikimedia.org/wiki/Discovery/Analytics#PAWS_Internal)\n",
    "  * [Mention in WMF 2017-2018 Annual Plan](https://meta.wikimedia.org/wiki/Wikimedia_Foundation_Annual_Plan/2017-2018/Final/SinglePage)\n",
    "  * Colab\n",
    "  * StackOverflow\n",
    "    - [Jupyter notebook as a comment on a SPARQL question](https://stackoverflow.com/questions/54162289/finding-the-three-longest-substrings-in-a-string-using-sparql-on-the-wikidata-qu#comment95158274_54162289)\n",
    "  * Internet in a Box\n",
    "    * via Kolibri\n",
    "  * lexemes\n",
    "  * tool use stats\n",
    "    - e.g. Scholia\n",
    "      - [public notebook](https://paws-public.wmflabs.org/paws-public/User:Daniel_Mietchen/pageview-statistics-scholia.ipynb)\n",
    "      - [non-public](https://hub.paws.wmcloud.org/hub/user/Daniel_Mietchen/notebooks/Toolforge-pageview-stats/pageview-statistics-scholia.ipynb)\n",
    "* [Wikipedia as a gateway to biomedical research: The relative distribution and use of citations in the English Wikipedia](https://doi.org/10.1371/journal.pone.0190046)\n",
    "* Lots of code examples in Jupyter-supported languages in Wikipedia pages about algorithms, standards and similar concepts relevant to computational sciences. Would be nice to have a robust and straightforward way to link these example snippets to a Jupyter notebook that runs out of the box.\n",
    "  * e.g. Python and Unity C# in [Centripetal Catmull–Rom spline](https://en.wikipedia.org/w/index.php?title=Centripetal_Catmull%E2%80%93Rom_spline&oldid=956131687#Code_example_in_Python)\n",
    "* [Wikidata:WikiProject PersonalData/Jupyter wikidata](https://www.wikidata.org/wiki/Wikidata:WikiProject_PersonalData/Jupyter_wikidata)\n"
   ]
  },
  {
   "cell_type": "markdown",
   "metadata": {},
   "source": [
    "## Conclusions"
   ]
  },
  {
   "cell_type": "markdown",
   "metadata": {},
   "source": [
    "- Interactions between the Jupyter and Wikimedia systems already happen in many contexts.\n",
    "- Now is a good time to start thinking about more systematic interactions between the two."
   ]
  },
  {
   "cell_type": "markdown",
   "metadata": {},
   "source": [
    "## Credits\n",
    "\n",
    "### Images\n",
    "\n",
    "All images embedded in this presentation are available from [Wikimedia Commons](https://commons.wikimedia.org), and their metadata is also given in the Zenodo repository at [https://doi.org/10.5281/zenodo.4031806](https://doi.org/10.5281/zenodo.4031806).\n",
    "\n",
    "Overview: [![](https://upload.wikimedia.org/wikipedia/commons/thumb/6/68/Screenshot_of_the_Wikimedia_Commons_category_containing_the_files_of_the_JupyterCon_2020_talk_Jupyter_in_the_Wikimedia_ecosystem.png/794px-Screenshot_of_the_Wikimedia_Commons_category_containing_the_files_of_the_JupyterCon_2020_talk_Jupyter_in_the_Wikimedia_ecosystem.png)](https://commons.wikimedia.org/wiki/File:Screenshot_of_the_Wikimedia_Commons_category_containing_the_files_of_the_JupyterCon_2020_talk_Jupyter_in_the_Wikimedia_ecosystem.png)\n",
    "\n",
    "### General\n",
    "\n",
    "Thanks to the open communities supporting Jupyter, Wikimedia and the ecosystems around them.\n"
   ]
  },
  {
   "cell_type": "markdown",
   "metadata": {},
   "source": [
    "## Contact"
   ]
  },
  {
   "cell_type": "markdown",
   "metadata": {},
   "source": [
    "daniel [dot] mietchen [at] virginia [dot] edu\n",
    "or \n",
    "[@EvoMRI on Twitter](https://twitter.com/EvoMRI)"
   ]
  },
  {
   "cell_type": "code",
   "execution_count": null,
   "metadata": {},
   "outputs": [],
   "source": []
  }
 ],
 "metadata": {
  "kernelspec": {
   "display_name": "Python 3",
   "language": "python",
   "name": "python3"
  },
  "language_info": {
   "codemirror_mode": {
    "name": "ipython",
    "version": 3
   },
   "file_extension": ".py",
   "mimetype": "text/x-python",
   "name": "python",
   "nbconvert_exporter": "python",
   "pygments_lexer": "ipython3",
   "version": "3.6.9"
  }
 },
 "nbformat": 4,
 "nbformat_minor": 4
}
