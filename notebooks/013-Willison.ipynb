{
 "cells": [
  {
   "cell_type": "markdown",
   "metadata": {},
   "source": [
    "Datasette: https://docs.datasette.io/\n",
    "        \n",
    "sqlite-utils: https://sqlite-utils.readthedocs.io/\n",
    "\n",
    "Before running this notebook I did:\n",
    "\n",
    "    pip install httpx sqlite-utils"
   ]
  },
  {
   "cell_type": "code",
   "execution_count": 1,
   "metadata": {},
   "outputs": [],
   "source": [
    "url = \"https://earthquake.usgs.gov/earthquakes/feed/v1.0/summary/all_week.geojson\""
   ]
  },
  {
   "cell_type": "code",
   "execution_count": 3,
   "metadata": {},
   "outputs": [
    {
     "name": "stdout",
     "output_type": "stream",
     "text": [
      "https://earthquake.usgs.gov/earthquakes/feed/v1.0/summary/all_week.geojson\n"
     ]
    }
   ],
   "source": [
    "print(url)"
   ]
  },
  {
   "cell_type": "code",
   "execution_count": 4,
   "metadata": {},
   "outputs": [],
   "source": [
    "import httpx"
   ]
  },
  {
   "cell_type": "code",
   "execution_count": 5,
   "metadata": {},
   "outputs": [],
   "source": [
    "data = httpx.get(url).json()"
   ]
  },
  {
   "cell_type": "code",
   "execution_count": 7,
   "metadata": {
    "scrolled": false
   },
   "outputs": [],
   "source": [
    "def feature(f):\n",
    "    d = f[\"properties\"]\n",
    "    d[\"latitude\"] = f[\"geometry\"][\"coordinates\"][1]\n",
    "    d[\"longitude\"] = f[\"geometry\"][\"coordinates\"][0]\n",
    "    d[\"id\"] = f[\"id\"]\n",
    "    return d"
   ]
  },
  {
   "cell_type": "code",
   "execution_count": 8,
   "metadata": {},
   "outputs": [
    {
     "data": {
      "text/plain": [
       "{'mag': 1.95,\n",
       " 'place': '12km WSW of Niland, CA',\n",
       " 'time': 1602083376960,\n",
       " 'updated': 1602083520739,\n",
       " 'tz': None,\n",
       " 'url': 'https://earthquake.usgs.gov/earthquakes/eventpage/ci39655376',\n",
       " 'detail': 'https://earthquake.usgs.gov/earthquakes/feed/v1.0/detail/ci39655376.geojson',\n",
       " 'felt': None,\n",
       " 'cdi': None,\n",
       " 'mmi': None,\n",
       " 'alert': None,\n",
       " 'status': 'automatic',\n",
       " 'tsunami': 0,\n",
       " 'sig': 58,\n",
       " 'net': 'ci',\n",
       " 'code': '39655376',\n",
       " 'ids': ',ci39655376,',\n",
       " 'sources': ',ci,',\n",
       " 'types': ',nearby-cities,origin,phase-data,scitech-link,',\n",
       " 'nst': 11,\n",
       " 'dmin': 0.008703,\n",
       " 'rms': 0.25,\n",
       " 'gap': 92,\n",
       " 'magType': 'ml',\n",
       " 'type': 'earthquake',\n",
       " 'title': 'M 2.0 - 12km WSW of Niland, CA',\n",
       " 'latitude': 33.1801682,\n",
       " 'longitude': -115.6323318,\n",
       " 'id': 'ci39655376'}"
      ]
     },
     "execution_count": 8,
     "metadata": {},
     "output_type": "execute_result"
    }
   ],
   "source": [
    "feature(data[\"features\"][0])"
   ]
  },
  {
   "cell_type": "code",
   "execution_count": 9,
   "metadata": {},
   "outputs": [],
   "source": [
    "import sqlite_utils"
   ]
  },
  {
   "cell_type": "code",
   "execution_count": 10,
   "metadata": {},
   "outputs": [],
   "source": [
    "db = sqlite_utils.Database(\"/tmp/earthquakes.db\")"
   ]
  },
  {
   "cell_type": "code",
   "execution_count": 12,
   "metadata": {},
   "outputs": [
    {
     "data": {
      "text/plain": [
       "<Table quakes (mag, place, time, updated, tz, url, detail, felt, cdi, mmi, alert, status, tsunami, sig, net, code, ids, sources, types, nst, dmin, rms, gap, magType, type, title, latitude, longitude, id)>"
      ]
     },
     "execution_count": 12,
     "metadata": {},
     "output_type": "execute_result"
    }
   ],
   "source": [
    "db[\"quakes\"].insert_all((feature(f) for f in data[\"features\"]), pk=\"id\")"
   ]
  },
  {
   "cell_type": "code",
   "execution_count": 13,
   "metadata": {},
   "outputs": [
    {
     "data": {
      "text/plain": [
       "<Table quakes (mag, place, time, updated, tz, url, detail, felt, cdi, mmi, alert, status, tsunami, sig, net, code, ids, sources, types, nst, dmin, rms, gap, magType, type, title, latitude, longitude, id)>"
      ]
     },
     "execution_count": 13,
     "metadata": {},
     "output_type": "execute_result"
    }
   ],
   "source": [
    "db[\"quakes\"].enable_fts([\"place\"])"
   ]
  },
  {
   "cell_type": "markdown",
   "metadata": {},
   "source": [
    "Then run this to open Datasette:\n",
    "    \n",
    "    datasette /tmp/earthquakes.db\n",
    "\n",
    "Installation instructions for Datasette here: https://docs.datasette.io/en/stable/installation.html\n",
    "\n",
    "Short version: `pip install datasette` or `brew install datasette`\n",
    "\n",
    "I installed the mapping plugin using `datasette install datasette-cluster-map`"
   ]
  },
  {
   "cell_type": "code",
   "execution_count": null,
   "metadata": {},
   "outputs": [],
   "source": []
  }
 ],
 "metadata": {
  "kernelspec": {
   "display_name": "Python 3",
   "language": "python",
   "name": "python3"
  },
  "language_info": {
   "codemirror_mode": {
    "name": "ipython",
    "version": 3
   },
   "file_extension": ".py",
   "mimetype": "text/x-python",
   "name": "python",
   "nbconvert_exporter": "python",
   "pygments_lexer": "ipython3",
   "version": "3.8.5"
  }
 },
 "nbformat": 4,
 "nbformat_minor": 4
}
