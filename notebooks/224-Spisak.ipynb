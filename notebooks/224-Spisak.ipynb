{
  "nbformat": 4,
  "nbformat_minor": 0,
  "metadata": {
    "kernelspec": {
      "display_name": "Environment (conda_pytorch_p36)",
      "language": "python",
      "name": "conda_pytorch_p36"
    },
    "language_info": {
      "codemirror_mode": {
        "name": "ipython",
        "version": 3
      },
      "file_extension": ".py",
      "mimetype": "text/x-python",
      "name": "python",
      "nbconvert_exporter": "python",
      "pygments_lexer": "ipython3",
      "version": "3.6.5"
    },
    "colab": {
      "name": "JupyterCon 2020 - PyTorch.ipynb",
      "provenance": [],
      "collapsed_sections": []
    },
    "accelerator": "GPU"
  },
  "cells": [
    {
      "cell_type": "markdown",
      "metadata": {
        "id": "747ph8I6UvLd",
        "colab_type": "text"
      },
      "source": [
        "\n",
        "<img src='https://upload.wikimedia.org/wikipedia/commons/9/96/Pytorch_logo.png' width=500px>\n",
        "\n",
        "# JuptyterCon 2020 | Deep Learning Development with PyTorch"
      ]
    },
    {
      "cell_type": "markdown",
      "metadata": {
        "id": "iZ-i_FgTVUSu",
        "colab_type": "text"
      },
      "source": [
        "### Agenda:\n",
        "* Developing a model with Jupyter on Colab - data handling, model development and training and visualizing loss curves using TensorBoard, model evaluation.\n",
        "* Interpreting the model with Captum and understanding what is attributing to the predictions\n",
        "* Benchmarking different hardware backends using CPUs, GPUs and Cloud TPUs "
      ]
    },
    {
      "cell_type": "markdown",
      "metadata": {
        "id": "j1PVg8uaVUwP",
        "colab_type": "text"
      },
      "source": [
        "### Let's start with importing all of the packages\n"
      ]
    },
    {
      "cell_type": "code",
      "metadata": {
        "id": "yts2FZpXaR32",
        "colab_type": "code",
        "colab": {}
      },
      "source": [
        "# matplotlib is helpful for making little visuals and charts\n",
        "import matplotlib.pyplot as plt\n",
        "# numpy is a dependency for PyTorch but also really handy for manipulating data \n",
        "import numpy as np\n",
        "\n",
        "# the standard PyTorch imports including torchvision for computer vision related artifacts\n",
        "import torch\n",
        "import torchvision\n",
        "import torchvision.transforms as transforms\n",
        "\n",
        "# some additional modules within PyTorch to help us define our network\n",
        "import torch.nn as nn\n",
        "import torch.nn.functional as F\n",
        "import torch.optim as optim"
      ],
      "execution_count": 36,
      "outputs": []
    },
    {
      "cell_type": "markdown",
      "metadata": {
        "id": "3GVsch-tiSAK",
        "colab_type": "text"
      },
      "source": [
        "### We can check on our GPU and what luck of the draw we got\n"
      ]
    },
    {
      "cell_type": "code",
      "metadata": {
        "id": "VCBC0t84iSQn",
        "colab_type": "code",
        "colab": {
          "base_uri": "https://localhost:8080/",
          "height": 357
        },
        "outputId": "ec76fd92-e8d5-422e-a1ec-25b862769450"
      },
      "source": [
        "# shell command gives you all you need to know about what GPU you have on your machine\n",
        "!nvidia-smi"
      ],
      "execution_count": 37,
      "outputs": [
        {
          "output_type": "stream",
          "text": [
            "Mon Sep 21 03:34:05 2020       \n",
            "+-----------------------------------------------------------------------------+\n",
            "| NVIDIA-SMI 450.66       Driver Version: 418.67       CUDA Version: 10.1     |\n",
            "|-------------------------------+----------------------+----------------------+\n",
            "| GPU  Name        Persistence-M| Bus-Id        Disp.A | Volatile Uncorr. ECC |\n",
            "| Fan  Temp  Perf  Pwr:Usage/Cap|         Memory-Usage | GPU-Util  Compute M. |\n",
            "|                               |                      |               MIG M. |\n",
            "|===============================+======================+======================|\n",
            "|   0  Tesla T4            Off  | 00000000:00:04.0 Off |                    0 |\n",
            "| N/A   46C    P0    27W /  70W |    897MiB / 15079MiB |      0%      Default |\n",
            "|                               |                      |                 ERR! |\n",
            "+-------------------------------+----------------------+----------------------+\n",
            "                                                                               \n",
            "+-----------------------------------------------------------------------------+\n",
            "| Processes:                                                                  |\n",
            "|  GPU   GI   CI        PID   Type   Process name                  GPU Memory |\n",
            "|        ID   ID                                                   Usage      |\n",
            "|=============================================================================|\n",
            "|  No running processes found                                                 |\n",
            "+-----------------------------------------------------------------------------+\n"
          ],
          "name": "stdout"
        }
      ]
    },
    {
      "cell_type": "markdown",
      "metadata": {
        "id": "LeO7IibnVU8U",
        "colab_type": "text"
      },
      "source": [
        "## PyTorch allows all kinds of tensor operations similar to numpy - Let's give it a try!\n"
      ]
    },
    {
      "cell_type": "code",
      "metadata": {
        "id": "AxW1_XSKVeaU",
        "colab_type": "code",
        "colab": {
          "base_uri": "https://localhost:8080/",
          "height": 102
        },
        "outputId": "29308725-7ee0-4d95-d7f2-632dae6c23b3"
      },
      "source": [
        "# construct a randomly initialized matrix\n",
        "x = torch.rand(5, 3)\n",
        "print(x)"
      ],
      "execution_count": 38,
      "outputs": [
        {
          "output_type": "stream",
          "text": [
            "tensor([[0.2648, 0.1151, 0.2899],\n",
            "        [0.5168, 0.6404, 0.4530],\n",
            "        [0.6793, 0.7065, 0.0409],\n",
            "        [0.2947, 0.3388, 0.5016],\n",
            "        [0.7138, 0.8649, 0.4612]])\n"
          ],
          "name": "stdout"
        }
      ]
    },
    {
      "cell_type": "code",
      "metadata": {
        "id": "tpGIAtvMPsnj",
        "colab_type": "code",
        "colab": {
          "base_uri": "https://localhost:8080/",
          "height": 102
        },
        "outputId": "a03e54fb-7210-43ac-e2e0-ac5c77a51987"
      },
      "source": [
        "# construct a matrix filled zeros and of dtype long\n",
        "y = torch.ones(5, 3, dtype=torch.long)\n",
        "print(x)"
      ],
      "execution_count": 39,
      "outputs": [
        {
          "output_type": "stream",
          "text": [
            "tensor([[0.2648, 0.1151, 0.2899],\n",
            "        [0.5168, 0.6404, 0.4530],\n",
            "        [0.6793, 0.7065, 0.0409],\n",
            "        [0.2947, 0.3388, 0.5016],\n",
            "        [0.7138, 0.8649, 0.4612]])\n"
          ],
          "name": "stdout"
        }
      ]
    },
    {
      "cell_type": "code",
      "metadata": {
        "id": "xXHH1GCoP7DY",
        "colab_type": "code",
        "colab": {
          "base_uri": "https://localhost:8080/",
          "height": 102
        },
        "outputId": "c46e0318-0842-4bc5-f5c0-2cc430b31397"
      },
      "source": [
        "# let's add the tensors up\n",
        "print(x+y)"
      ],
      "execution_count": 40,
      "outputs": [
        {
          "output_type": "stream",
          "text": [
            "tensor([[1.2648, 1.1151, 1.2899],\n",
            "        [1.5168, 1.6404, 1.4530],\n",
            "        [1.6793, 1.7065, 1.0409],\n",
            "        [1.2947, 1.3388, 1.5016],\n",
            "        [1.7138, 1.8649, 1.4612]])\n"
          ],
          "name": "stdout"
        }
      ]
    },
    {
      "cell_type": "code",
      "metadata": {
        "id": "CJ7xch_IQOzw",
        "colab_type": "code",
        "colab": {
          "base_uri": "https://localhost:8080/",
          "height": 34
        },
        "outputId": "08b79ddf-cce7-456b-a346-bbf84042b344"
      },
      "source": [
        "# full support for numpy style indexing\n",
        "print(x[:,1])"
      ],
      "execution_count": 41,
      "outputs": [
        {
          "output_type": "stream",
          "text": [
            "tensor([0.1151, 0.6404, 0.7065, 0.3388, 0.8649])\n"
          ],
          "name": "stdout"
        }
      ]
    },
    {
      "cell_type": "markdown",
      "metadata": {
        "id": "2-HnbGHORZEs",
        "colab_type": "text"
      },
      "source": [
        "### We can also convert Torch tensors to numpy arrays"
      ]
    },
    {
      "cell_type": "code",
      "metadata": {
        "id": "yKjycuHhRLWw",
        "colab_type": "code",
        "colab": {
          "base_uri": "https://localhost:8080/",
          "height": 34
        },
        "outputId": "c0019344-f334-4906-acd1-eda2c8c91bba"
      },
      "source": [
        "# a is a tensor. We can use any number of factory functions to create new tensors. We are using torch.ones here to create a tensor of all 1s.\n",
        "a = torch.ones(5)\n",
        "print(a)"
      ],
      "execution_count": 42,
      "outputs": [
        {
          "output_type": "stream",
          "text": [
            "tensor([1., 1., 1., 1., 1.])\n"
          ],
          "name": "stdout"
        }
      ]
    },
    {
      "cell_type": "code",
      "metadata": {
        "id": "dIHnS4_-RLl3",
        "colab_type": "code",
        "colab": {
          "base_uri": "https://localhost:8080/",
          "height": 34
        },
        "outputId": "401debdf-f0c8-4880-da38-f22f878b57f9"
      },
      "source": [
        "# we can cast a as a numpy array using the .numpy() api\n",
        "b = a.numpy()\n",
        "print(b)"
      ],
      "execution_count": 43,
      "outputs": [
        {
          "output_type": "stream",
          "text": [
            "[1. 1. 1. 1. 1.]\n"
          ],
          "name": "stdout"
        }
      ]
    },
    {
      "cell_type": "markdown",
      "metadata": {
        "id": "41yq6JosRqBD",
        "colab_type": "text"
      },
      "source": [
        "### And easily run these tensors on Cuda devices"
      ]
    },
    {
      "cell_type": "code",
      "metadata": {
        "id": "QKxY9T76Rv_x",
        "colab_type": "code",
        "colab": {
          "base_uri": "https://localhost:8080/",
          "height": 187
        },
        "outputId": "3ae260cc-2c51-46ee-a597-24a5633c2575"
      },
      "source": [
        "# using a bit of logic is handy to ensure you fall back gracefully to the cpu if a gpu isn't available\n",
        "if torch.cuda.is_available():\n",
        "    device = torch.device(\"cuda\")          # a CUDA device object\n",
        "    y = torch.ones_like(x, device=device)  # directly create a tensor on GPU\n",
        "    x = x.to(device)                       # or just use strings ``.to(\"cuda\")``\n",
        "    z = x + y\n",
        "    print(z)\n",
        "    print(z.to(\"cpu\", torch.double))       # ``.to`` can also change dtype together!"
      ],
      "execution_count": 44,
      "outputs": [
        {
          "output_type": "stream",
          "text": [
            "tensor([[1.2648, 1.1151, 1.2899],\n",
            "        [1.5168, 1.6404, 1.4530],\n",
            "        [1.6793, 1.7065, 1.0409],\n",
            "        [1.2947, 1.3388, 1.5016],\n",
            "        [1.7138, 1.8649, 1.4612]], device='cuda:0')\n",
            "tensor([[1.2648, 1.1151, 1.2899],\n",
            "        [1.5168, 1.6404, 1.4530],\n",
            "        [1.6793, 1.7065, 1.0409],\n",
            "        [1.2947, 1.3388, 1.5016],\n",
            "        [1.7138, 1.8649, 1.4612]], dtype=torch.float64)\n"
          ],
          "name": "stdout"
        }
      ]
    },
    {
      "cell_type": "markdown",
      "metadata": {
        "id": "bjM-KqRcMQdN",
        "colab_type": "text"
      },
      "source": [
        "# Fashion MNIST - let's classify some clothing!"
      ]
    },
    {
      "cell_type": "markdown",
      "metadata": {
        "id": "CKu-pS3pMQdO",
        "colab_type": "text"
      },
      "source": [
        "We'll be using the [Fashion-MNIST dataset](https://github.com/zalandoresearch/fashion-mnist), a drop-in replacement for the hand written digit MNIST dataset. MNIST is actually quite trivial with neural networks where you can easily achieve better than 97% accuracy. Fashion-MNIST is a set of 28x28 greyscale images of clothes including shoes, shirts, etc. Below is a visualization of the data.\n",
        "\n",
        "<img src='https://s3-ap-south-1.amazonaws.com/av-blog-media/wp-content/uploads/2018/03/Fashion-MNIST.png' width=500px>\n",
        "\n",
        "\n"
      ]
    },
    {
      "cell_type": "markdown",
      "metadata": {
        "id": "9Rxisf1KMQdP",
        "colab_type": "text"
      },
      "source": [
        "### Load Our Dataset"
      ]
    },
    {
      "cell_type": "code",
      "metadata": {
        "id": "bD5fra-yMQdP",
        "colab_type": "code",
        "colab": {}
      },
      "source": [
        "# transforms\n",
        "transform = transforms.Compose(\n",
        "    [transforms.ToTensor(),\n",
        "    transforms.Normalize((0.5,), (0.5,))])\n",
        "\n",
        "# datasets\n",
        "trainset = torchvision.datasets.FashionMNIST('./data',\n",
        "    download=True,\n",
        "    train=True,\n",
        "    transform=transform)\n",
        "testset = torchvision.datasets.FashionMNIST('./data',\n",
        "    download=True,\n",
        "    train=False,\n",
        "    transform=transform)\n",
        "\n",
        "# dataloaders\n",
        "trainloader = torch.utils.data.DataLoader(trainset, batch_size=4,\n",
        "                                        shuffle=True, num_workers=2)\n",
        "\n",
        "\n",
        "testloader = torch.utils.data.DataLoader(testset, batch_size=4,\n",
        "                                        shuffle=False, num_workers=2)\n",
        "\n",
        "# constant for classes\n",
        "classes = ('T-shirt/top', 'Trouser', 'Pullover', 'Dress', 'Coat',\n",
        "        'Sandal', 'Shirt', 'Sneaker', 'Bag', 'Ankle Boot')\n",
        "\n",
        "# helper function to show an image\n",
        "# (used in the `plot_classes_preds` function below)\n",
        "def matplotlib_imshow(img, one_channel=False):\n",
        "    if one_channel:\n",
        "        img = img.mean(dim=0)\n",
        "    img = img / 2 + 0.5     # unnormalize\n",
        "    npimg = img.numpy()\n",
        "    if one_channel:\n",
        "        plt.imshow(npimg, cmap=\"Greys\")\n",
        "    else:\n",
        "        plt.imshow(np.transpose(npimg, (1, 2, 0)))"
      ],
      "execution_count": 45,
      "outputs": []
    },
    {
      "cell_type": "markdown",
      "metadata": {
        "id": "Z-eMI2onMQdS",
        "colab_type": "text"
      },
      "source": [
        "### We can visualize some training examples"
      ]
    },
    {
      "cell_type": "code",
      "metadata": {
        "id": "q5r9z8mqMQdT",
        "colab_type": "code",
        "colab": {
          "base_uri": "https://localhost:8080/",
          "height": 138
        },
        "outputId": "18eb5398-a605-4c57-89a1-0d21e421e66c"
      },
      "source": [
        "# functions to show images in the training set\n",
        "\n",
        "def imshow(img):\n",
        "    img = img / 2 + 0.5     # unnormalize\n",
        "    npimg = img.numpy()\n",
        "    plt.imshow(np.transpose(npimg, (1, 2, 0)))\n",
        "    plt.show()\n",
        "\n",
        "# get some random training images\n",
        "dataiter = iter(trainloader)\n",
        "images, labels = dataiter.next()\n",
        "\n",
        "# show images\n",
        "imshow(torchvision.utils.make_grid(images))"
      ],
      "execution_count": 46,
      "outputs": [
        {
          "output_type": "display_data",
          "data": {
            "image/png": "[encoded data removed]",
            "text/plain": [
              "<Figure size 432x288 with 1 Axes>"
            ]
          },
          "metadata": {
            "tags": [],
            "needs_background": "light"
          }
        }
      ]
    },
    {
      "cell_type": "markdown",
      "metadata": {
        "id": "Lp4vEeBNMQdW",
        "colab_type": "text"
      },
      "source": [
        "### Define our network architecture\n",
        "\n",
        "In this case, we are using fairly basic convolutional neural network "
      ]
    },
    {
      "cell_type": "code",
      "metadata": {
        "id": "I6MriZAdMQdW",
        "colab_type": "code",
        "colab": {}
      },
      "source": [
        "import torch.nn as nn\n",
        "import torch.nn.functional as F\n",
        "\n",
        "# Creating a class for our model and subclassing nn.Module to take advantage of the layers available\n",
        "class Classifier(nn.Module):\n",
        "    def __init__(self):\n",
        "        super().__init__()\n",
        "        self.fc1 = nn.Linear(784, 256)\n",
        "        self.fc2 = nn.Linear(256, 128)\n",
        "        self.fc3 = nn.Linear(128, 64)\n",
        "        self.fc4 = nn.Linear(64, 10)\n",
        "        \n",
        "    def forward(self, x):\n",
        "        # make sure input tensor is flattened\n",
        "        x = x.view(x.shape[0], -1)\n",
        "        \n",
        "        x = F.relu(self.fc1(x))\n",
        "        x = F.relu(self.fc2(x))\n",
        "        x = F.relu(self.fc3(x))\n",
        "        x = F.log_softmax(self.fc4(x), dim=1)\n",
        "        \n",
        "        return x"
      ],
      "execution_count": 47,
      "outputs": []
    },
    {
      "cell_type": "markdown",
      "metadata": {
        "id": "2z0EheMVMQdY",
        "colab_type": "text"
      },
      "source": [
        "### Defining our loss function and optimizer"
      ]
    },
    {
      "cell_type": "code",
      "metadata": {
        "id": "Eu0GyJ2mMQdY",
        "colab_type": "code",
        "colab": {}
      },
      "source": [
        "import torch.optim as optim\n",
        "model = Classifier()\n",
        "\n",
        "# defining a metric for our loss function\n",
        "criterion = nn.NLLLoss()\n",
        "\n",
        "# selecting our optimizer, in this case the Adam optimizer. We also specify the hyperparameter our learning rate here.\n",
        "optimizer = optim.SGD(model.parameters(), lr=0.01)"
      ],
      "execution_count": 48,
      "outputs": []
    },
    {
      "cell_type": "markdown",
      "metadata": {
        "id": "QkN6ruVrVJGV",
        "colab_type": "text"
      },
      "source": [
        "### Setting up TensorBoard"
      ]
    },
    {
      "cell_type": "code",
      "metadata": {
        "id": "xYze61_uMQdi",
        "colab_type": "code",
        "colab": {
          "base_uri": "https://localhost:8080/",
          "height": 51
        },
        "outputId": "6e471bb4-5986-4bae-b8fb-cd3b865f106b"
      },
      "source": [
        "from torch.utils.tensorboard import SummaryWriter\n",
        "\n",
        "# default `log_dir` is \"runs\" - we'll be more specific here\n",
        "writer = SummaryWriter('runs/fashion_mnist_experiment_1')\n",
        "writer.close()\n",
        "# this is allows TensorBoard to work in a Jupyter environment. Super handy!\n",
        "%load_ext tensorboard"
      ],
      "execution_count": 49,
      "outputs": [
        {
          "output_type": "stream",
          "text": [
            "The tensorboard extension is already loaded. To reload it, use:\n",
            "  %reload_ext tensorboard\n"
          ],
          "name": "stdout"
        }
      ]
    },
    {
      "cell_type": "markdown",
      "metadata": {
        "id": "ZCindogQVqU_",
        "colab_type": "text"
      },
      "source": [
        "### We can also use torchvision to visualize our data and write it TensorBoard"
      ]
    },
    {
      "cell_type": "code",
      "metadata": {
        "id": "xBYCCIVXVqoC",
        "colab_type": "code",
        "colab": {
          "base_uri": "https://localhost:8080/",
          "height": 138
        },
        "outputId": "1626f23c-ef32-47c7-d7cb-f5fbbc465e0b"
      },
      "source": [
        "# get some random training images\n",
        "dataiter = iter(trainloader)\n",
        "images, labels = dataiter.next()\n",
        "\n",
        "# create grid of images\n",
        "img_grid = torchvision.utils.make_grid(images)\n",
        "\n",
        "# show images\n",
        "matplotlib_imshow(img_grid, one_channel=True)\n",
        "\n",
        "# write to tensorboard\n",
        "writer.add_image('four_fashion_mnist_images', img_grid)"
      ],
      "execution_count": 50,
      "outputs": [
        {
          "output_type": "display_data",
          "data": {
            "image/png": "[encoded data removed]",
            "text/plain": [
              "<Figure size 432x288 with 1 Axes>"
            ]
          },
          "metadata": {
            "tags": [],
            "needs_background": "light"
          }
        }
      ]
    },
    {
      "cell_type": "markdown",
      "metadata": {
        "id": "SFcgUKgMXBqm",
        "colab_type": "text"
      },
      "source": [
        "### Let's add a way to visualize our graph in TensorBoard\n"
      ]
    },
    {
      "cell_type": "code",
      "metadata": {
        "id": "D4UQP-6pXCFH",
        "colab_type": "code",
        "colab": {}
      },
      "source": [
        "writer.add_graph(model, images)\n",
        "writer.close()"
      ],
      "execution_count": 51,
      "outputs": []
    },
    {
      "cell_type": "markdown",
      "metadata": {
        "id": "WotExOv1MQda",
        "colab_type": "text"
      },
      "source": [
        "### The Training Loop"
      ]
    },
    {
      "cell_type": "code",
      "metadata": {
        "id": "5eaVptOTMQdb",
        "colab_type": "code",
        "colab": {
          "base_uri": "https://localhost:8080/",
          "height": 34
        },
        "outputId": "9494aade-050c-43f1-ba36-7dc4554afbe0"
      },
      "source": [
        "epochs = 10\n",
        "writer = SummaryWriter()\n",
        "for e in range(epochs):\n",
        "    running_loss = 0\n",
        "    for images, labels in trainloader:\n",
        "        log_ps = model(images)\n",
        "        loss = criterion(log_ps, labels)\n",
        "        \n",
        "        # zeroing out our gradients \n",
        "        optimizer.zero_grad()\n",
        "        # taking a backward pass\n",
        "        loss.backward()\n",
        "        # taking a step \n",
        "        optimizer.step()\n",
        "        \n",
        "        # calculating our loss\n",
        "        running_loss += loss.item()\n",
        "    else:\n",
        "        print(f\"Training loss: {running_loss/1000}\")\n",
        "        # logging our loss to TensorBoard\n",
        "        writer.add_scalar('training loss',\n",
        "                            running_loss / 1000)\n",
        "        \n",
        "writer.close()"
      ],
      "execution_count": null,
      "outputs": [
        {
          "output_type": "stream",
          "text": [
            "Training loss: 8.417526966446808\n"
          ],
          "name": "stdout"
        }
      ]
    },
    {
      "cell_type": "markdown",
      "metadata": {
        "id": "X5ToN4JzV01A",
        "colab_type": "text"
      },
      "source": [
        "### Let's get TensorBoard running"
      ]
    },
    {
      "cell_type": "code",
      "metadata": {
        "id": "wILHDNZtV1ii",
        "colab_type": "code",
        "colab": {}
      },
      "source": [
        "tensorboard --logdir=runs\n"
      ],
      "execution_count": null,
      "outputs": []
    },
    {
      "cell_type": "markdown",
      "metadata": {
        "id": "WUWrrHuAMQde",
        "colab_type": "text"
      },
      "source": [
        "### Let's test the network on our test set data!"
      ]
    },
    {
      "cell_type": "code",
      "metadata": {
        "id": "KNOUTdfXMQde",
        "colab_type": "code",
        "colab": {}
      },
      "source": [
        "# we've created a handy function that plots our inference results\n",
        "def view_classify(img, ps, version=\"Fashion\"):\n",
        "    ''' Function for viewing an image and it's predicted classes.\n",
        "    '''\n",
        "    ps = ps.data.numpy().squeeze()\n",
        "\n",
        "    fig, (ax1, ax2) = plt.subplots(figsize=(6,9), ncols=2)\n",
        "    ax1.imshow(img.resize_(1, 28, 28).numpy().squeeze())\n",
        "    ax1.axis('off')\n",
        "    ax2.barh(np.arange(10), ps)\n",
        "    ax2.set_aspect(0.1)\n",
        "    ax2.set_yticks(np.arange(10))\n",
        "    ax2.set_yticklabels(['T-shirt/top',\n",
        "                            'Trouser',\n",
        "                            'Pullover',\n",
        "                            'Dress',\n",
        "                            'Coat',\n",
        "                            'Sandal',\n",
        "                            'Shirt',\n",
        "                            'Sneaker',\n",
        "                            'Bag',\n",
        "                            'Ankle Boot'], size='small');\n",
        "    ax2.set_title('Class Probability')\n",
        "    ax2.set_xlim(0, 1.1)"
      ],
      "execution_count": null,
      "outputs": []
    },
    {
      "cell_type": "code",
      "metadata": {
        "id": "2p1vav3DMQdh",
        "colab_type": "code",
        "colab": {}
      },
      "source": [
        "# let's do a prediction!\n",
        "images, labels = next(iter(testloader))\n",
        "\n",
        "img = images[2].view(1, 784)\n",
        "with torch.no_grad():\n",
        "    logps = model(img)\n",
        "\n",
        "ps = torch.exp(logps)\n",
        "probab = list(ps.numpy()[0])\n",
        "print(\"Predicted Digit =\", probab.index(max(probab)))\n",
        "view_classify(img.view(1, 28, 28), ps)"
      ],
      "execution_count": null,
      "outputs": []
    },
    {
      "cell_type": "markdown",
      "metadata": {
        "id": "elZCkWRai-rR",
        "colab_type": "text"
      },
      "source": [
        "## So what's next?"
      ]
    },
    {
      "cell_type": "markdown",
      "metadata": {
        "id": "RE4EI4DEjA6I",
        "colab_type": "text"
      },
      "source": [
        "Head to [pytorch.org](https://pytorch.org/) for lots of tutorials, blogs and other educational materials. Plus all tutorials have Jupyter NBs and direct links to Colab!!"
      ]
    }
  ]
}