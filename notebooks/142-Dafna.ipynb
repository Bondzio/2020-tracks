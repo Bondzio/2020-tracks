{
 "cells": [
  {
   "cell_type": "code",
   "execution_count": 1,
   "metadata": {},
   "outputs": [],
   "source": [
    "import pandas as pd\n",
    "import numpy as np\n",
    "import bqplot as bqp\n",
    "import ipywidgets as ipw\n",
    "import datetime\n",
    "from IPython.display import HTML"
   ]
  },
  {
   "cell_type": "code",
   "execution_count": 2,
   "metadata": {},
   "outputs": [
    {
     "data": {
      "text/html": [
       "\n",
       "<style>\n",
       "    body {\n",
       "        color: white !important;\n",
       "    }\n",
       "</style>\n"
      ],
      "text/plain": [
       "<IPython.core.display.HTML object>"
      ]
     },
     "execution_count": 2,
     "metadata": {},
     "output_type": "execute_result"
    }
   ],
   "source": [
    "# Quick styling fix for bqplot hover style\n",
    "HTML(\"\"\"\n",
    "<style>\n",
    "    body {\n",
    "        color: white !important;\n",
    "    }\n",
    "</style>\n",
    "\"\"\")"
   ]
  },
  {
   "cell_type": "code",
   "execution_count": 3,
   "metadata": {},
   "outputs": [],
   "source": [
    "# Load data into a DataFrame\n",
    "fx_data = pd.read_csv('fx_price_data.csv').set_index('Dates')\n",
    "fx_data.index = pd.to_datetime(fx_data.index)\n",
    "\n",
    "# Calculate returns\n",
    "fx_returns = (((fx_data / fx_data.shift(-1)) - 1)*100)"
   ]
  },
  {
   "cell_type": "code",
   "execution_count": 4,
   "metadata": {},
   "outputs": [],
   "source": [
    "# Currency pairs for drop-down list\n",
    "currency_list = [\n",
    "    'USDSEK BGN Curncy',\n",
    "    'USDCHF BGN Curncy',\n",
    "    'USDDKK BGN Curncy',\n",
    "    'EURUSD BGN Curncy',\n",
    "    'AUDUSD BGN Curncy',\n",
    "    'USDJPY BGN Curncy',\n",
    "    'USDTWD REGN Curncy',\n",
    "    'NZDUSD BGN Curncy',\n",
    "    'USDSGD BGN Curncy',\n",
    "    'USDCAD BGN Curncy',\n",
    "    'USDKRW REGN Curncy',\n",
    "    'GBPUSD BGN Curncy',\n",
    "    'USDNOK BGN Curncy',\n",
    "    'USDMXN BGN Curncy',\n",
    "    'USDZAR BGN Curncy',\n",
    "    'USDBRL REGN Curncy'\n",
    "]"
   ]
  },
  {
   "cell_type": "code",
   "execution_count": 5,
   "metadata": {},
   "outputs": [],
   "source": [
    "# Line chart\n",
    "line_sc_x = bqp.DateScale()\n",
    "line_sc_y = bqp.LinearScale()\n",
    "line_mark = bqp.Lines(x=[], y=[],\n",
    "             scales={'x': line_sc_x, 'y': line_sc_y})\n",
    "line_fast = bqp.interacts.FastIntervalSelector(scale=line_sc_x, marks=[line_mark])\n",
    "line_ax_x = bqp.Axis(scale=line_sc_x, label='Date')\n",
    "line_ax_y = bqp.Axis(scale=line_sc_y, orientation='vertical', label='Price')\n",
    "line_fig = bqp.Figure(marks=[line_mark], axes=[line_ax_x, line_ax_y], title='Select a currency pair', \n",
    "                      interaction=line_fast, layout={'width':'50%', 'display': 'flex', 'flex':'1 1 auto'})"
   ]
  },
  {
   "cell_type": "code",
   "execution_count": 6,
   "metadata": {},
   "outputs": [],
   "source": [
    "# Scatter chart\n",
    "scatter_sc_x = bqp.DateScale()\n",
    "scatter_sc_y = bqp.LinearScale()\n",
    "scatter_sc_col = bqp.ColorScale()\n",
    "\n",
    "scatter_tooltip = bqp.Tooltip(fields=['x', 'y'], formats=['%m-%d-%Y', '.2f'])\n",
    "scatter_scatt = bqp.Scatter(x=[], y=[], color=[], scales={'x': scatter_sc_x, 'y': scatter_sc_y, 'color': scatter_sc_col}, \n",
    "                            tooltip=scatter_tooltip, unhovered_style={'opacity': 0.3})\n",
    "scatter_ax_x = bqp.Axis(scale=scatter_sc_x, label='Date')\n",
    "scatter_ax_y = bqp.Axis(scale=scatter_sc_y, orientation='vertical', \n",
    "                        tick_format='0.2f', label='Return')\n",
    "\n",
    "scatter_ax_col = bqp.ColorAxis(scale=scatter_sc_col, tick_format='0.2%', label='Returns', orientation='vertical', side='right')\n",
    "scatter_fig = bqp.Figure(marks=[scatter_scatt], axes=[scatter_ax_x, scatter_ax_y, scatter_ax_col], fig_margin=dict(top=50, bottom=70, left=50, right=100),\n",
    "                         layout={'width':'50%', 'display': 'flex', 'flex':'1 1 auto'})"
   ]
  },
  {
   "cell_type": "code",
   "execution_count": 7,
   "metadata": {},
   "outputs": [],
   "source": [
    "# Start and end date values\n",
    "min_start_date = fx_data.index.min()\n",
    "max_end_date = fx_data.index.max()"
   ]
  },
  {
   "cell_type": "code",
   "execution_count": 8,
   "metadata": {},
   "outputs": [],
   "source": [
    "# Defining callback functions\n",
    "def update_line_chart(event):\n",
    "    data_to_use = fx_data[[dropdown.value]].loc[(fx_data.index \n",
    "                                                 >= pd.to_datetime(start_date.value)) & (fx_data.index \n",
    "                                                 <= pd.to_datetime(end_date.value))]\n",
    "    \n",
    "    x_data = data_to_use.index\n",
    "    y_data = data_to_use.values\n",
    "    line_mark.x = x_data\n",
    "    line_mark.y = y_data\n",
    "    line_fig.title = dropdown.value\n",
    "    \n",
    "def update_scatter(event):\n",
    "    start_period, end_period = line_fast.selected\n",
    "    data_to_use = fx_returns.loc[(fx_returns.index > start_period) & (fx_returns.index <= end_period), dropdown.value]\n",
    "    \n",
    "    x_data = data_to_use.index\n",
    "    y_data = data_to_use.values\n",
    "    scatter_scatt.x = x_data\n",
    "    scatter_scatt.y = y_data\n",
    "    scatter_scatt.color = y_data\n",
    "    scatter_fig.title = 'Return for period: {} - {}'.format(np.datetime_as_string(start_period)[:10], \n",
    "                                                            np.datetime_as_string(end_period)[:10])\n",
    "    \n",
    "def calculate_ranking(event):\n",
    "    start_period, end_period = line_fast.selected\n",
    "    data_to_use = fx_returns.loc[(fx_returns.index > start_period) & (fx_returns.index <= end_period), :]\n",
    "    rank = data_to_use.describe().loc[['mean']].T\n",
    "    rank_dataframe = rank.sort_values(by='mean', ascending=False).rename({'mean':'Top 5 average return for period'},\n",
    "                                                                         axis=1).head(5).style.applymap(red_green_style)\n",
    "    rank_dataframe = rank_dataframe.set_table_styles([{'selector': 'tr:hover', 'props': [('background-color', 'grey')], \n",
    "                                                       'selector':'td', 'props': [('text-align', 'right')]}]).render()\n",
    "    ranking_table.value = rank_dataframe\n",
    "    \n",
    "def update_scatter_and_rankings(event):\n",
    "    update_scatter(event)\n",
    "    calculate_ranking(event)\n",
    "    \n",
    "def red_green_style(val):\n",
    "    color = 'red' if val < 0 else 'lawngreen'\n",
    "    return 'color: %s' % color"
   ]
  },
  {
   "cell_type": "code",
   "execution_count": 9,
   "metadata": {},
   "outputs": [
    {
     "data": {
      "application/vnd.jupyter.widget-view+json": {
       "model_id": "bf67b845d2d743faa28949e3ac043462",
       "version_major": 2,
       "version_minor": 0
      },
      "text/plain": [
       "VBox(children=(HBox(children=(Dropdown(options=('USDSEK BGN Curncy', 'USDCHF BGN Curncy', 'USDDKK BGN Curncy',…"
      ]
     },
     "metadata": {},
     "output_type": "display_data"
    }
   ],
   "source": [
    "# Graphical user interface with widgets\n",
    "dropdown = ipw.Dropdown(options=currency_list)\n",
    "start_date = ipw.DatePicker(value=min_start_date)\n",
    "end_date = ipw.DatePicker(value=max_end_date)\n",
    "ranking_table = ipw.HTML()\n",
    "\n",
    "control_row = ipw.HBox([dropdown,start_date,end_date], layout={'width':'100%', 'display': 'flex', 'flex':'1 1 auto'})\n",
    "charts_and_table = ipw.HBox([line_fig, scatter_fig], layout={'width':'100%', 'display': 'flex', 'flex':'1 1 auto'})\n",
    "\n",
    "# Event listeners\n",
    "dropdown.observe(update_line_chart, 'value')\n",
    "start_date.observe(update_line_chart, 'value')\n",
    "end_date.observe(update_line_chart, 'value')\n",
    "line_fast.observe(update_scatter_and_rankings, 'selected')\n",
    "\n",
    "update_line_chart(dropdown.value)\n",
    "\n",
    "ipw.VBox([control_row, charts_and_table, ranking_table], layout={'width':'100%', 'display': 'flex', 'flex':'1 1 auto'})"
   ]
  }
 ],
 "metadata": {
  "kernelspec": {
   "display_name": "Python 3",
   "language": "python",
   "name": "python3"
  },
  "language_info": {
   "codemirror_mode": {
    "name": "ipython",
    "version": 3
   },
   "file_extension": ".py",
   "mimetype": "text/x-python",
   "name": "python",
   "nbconvert_exporter": "python",
   "pygments_lexer": "ipython3",
   "version": "3.8.5"
  }
 },
 "nbformat": 4,
 "nbformat_minor": 4
}
